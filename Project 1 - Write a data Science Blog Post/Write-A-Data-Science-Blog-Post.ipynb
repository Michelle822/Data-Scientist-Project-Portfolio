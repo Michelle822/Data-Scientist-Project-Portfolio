{
 "cells": [
  {
   "cell_type": "markdown",
   "metadata": {},
   "source": [
    "# Udacity | Data Scientist Nanodegree |  \n",
    "# Project 1 - Write A Data Science Blog Post"
   ]
  },
  {
   "cell_type": "markdown",
   "metadata": {},
   "source": [
    "**Creation date: 07.11.2020  \n",
    "Created by Michelle Leemans**"
   ]
  },
  {
   "cell_type": "markdown",
   "metadata": {},
   "source": [
    "## Table of Contents\n",
    "1. [Business understanding](#Business)\n",
    "1. [Data Understanding](#Data)\n",
    "1. [Question I](#q1) | Do programmers have equal salary in Europe and North America and is there a 'gender gap'?  \n",
    "    3.1 [Prepare Data](#Prepare1)  \n",
    "    3.2 [Data Modeling](#Modeling1)    \n",
    "    3.3 [Evaluating the results](#Eval1)    \n",
    "1. [Question II](#q2) | Do programmers have equal satisfaction score (both career or job) in Europe and North America and is there a 'gender gap'?    \n",
    "    4.1 [Prepare Data](#Prepare2)  \n",
    "    4.2 [Data Modeling](#Modeling2)    \n",
    "    4.3 [Evaluating the results](#Eval2)\n",
    "1. [Question III](#q3) | What are the most common used languages?   \n",
    "    5.1 [Prepare Data](#Prepare3)  \n",
    "    5.2 [Data Modeling](#Modeling3)    \n",
    "    5.3 [Evaluating the results](#Eval3)  \n"
   ]
  },
  {
   "cell_type": "markdown",
   "metadata": {},
   "source": [
    "## 1. Business understanding <a id='Business'>"
   ]
  },
  {
   "cell_type": "markdown",
   "metadata": {},
   "source": [
    "Within this first project of the Udacity Data Scientist Nanodegree, I investigated the Stack Overflow data from 2017. Within this data analysis 3 specific questions were answered:\n",
    "\n",
    "1. Do programmers have equal salary in Europe and North America and is there a 'gender gap'?\n",
    "1. Do programmers have equal satisfaction score (both career or job) in Europe and North America and is there a 'gender gap'?\n",
    "1. What are the most common used languages?\n",
    "\n"
   ]
  },
  {
   "cell_type": "markdown",
   "metadata": {},
   "source": [
    "## 2. Data understanding <a id='Data'>"
   ]
  },
  {
   "cell_type": "code",
   "execution_count": 1,
   "metadata": {},
   "outputs": [],
   "source": [
    "# Importing necessary libraries\n",
    "\n",
    "import numpy as np\n",
    "import pandas as pd\n",
    "import matplotlib.pyplot as plt\n",
    "import seaborn as sb\n",
    "\n",
    "%matplotlib inline\n"
   ]
  },
  {
   "cell_type": "code",
   "execution_count": 2,
   "metadata": {},
   "outputs": [
    {
     "data": {
      "text/html": [
       "<div>\n",
       "<style scoped>\n",
       "    .dataframe tbody tr th:only-of-type {\n",
       "        vertical-align: middle;\n",
       "    }\n",
       "\n",
       "    .dataframe tbody tr th {\n",
       "        vertical-align: top;\n",
       "    }\n",
       "\n",
       "    .dataframe thead th {\n",
       "        text-align: right;\n",
       "    }\n",
       "</style>\n",
       "<table border=\"1\" class=\"dataframe\">\n",
       "  <thead>\n",
       "    <tr style=\"text-align: right;\">\n",
       "      <th></th>\n",
       "      <th>Respondent</th>\n",
       "      <th>Professional</th>\n",
       "      <th>ProgramHobby</th>\n",
       "      <th>Country</th>\n",
       "      <th>University</th>\n",
       "      <th>EmploymentStatus</th>\n",
       "      <th>FormalEducation</th>\n",
       "      <th>MajorUndergrad</th>\n",
       "      <th>HomeRemote</th>\n",
       "      <th>CompanySize</th>\n",
       "      <th>...</th>\n",
       "      <th>StackOverflowMakeMoney</th>\n",
       "      <th>Gender</th>\n",
       "      <th>HighestEducationParents</th>\n",
       "      <th>Race</th>\n",
       "      <th>SurveyLong</th>\n",
       "      <th>QuestionsInteresting</th>\n",
       "      <th>QuestionsConfusing</th>\n",
       "      <th>InterestedAnswers</th>\n",
       "      <th>Salary</th>\n",
       "      <th>ExpectedSalary</th>\n",
       "    </tr>\n",
       "  </thead>\n",
       "  <tbody>\n",
       "    <tr>\n",
       "      <th>0</th>\n",
       "      <td>1</td>\n",
       "      <td>Student</td>\n",
       "      <td>Yes, both</td>\n",
       "      <td>United States</td>\n",
       "      <td>No</td>\n",
       "      <td>Not employed, and not looking for work</td>\n",
       "      <td>Secondary school</td>\n",
       "      <td>NaN</td>\n",
       "      <td>NaN</td>\n",
       "      <td>NaN</td>\n",
       "      <td>...</td>\n",
       "      <td>Strongly disagree</td>\n",
       "      <td>Male</td>\n",
       "      <td>High school</td>\n",
       "      <td>White or of European descent</td>\n",
       "      <td>Strongly disagree</td>\n",
       "      <td>Strongly agree</td>\n",
       "      <td>Disagree</td>\n",
       "      <td>Strongly agree</td>\n",
       "      <td>NaN</td>\n",
       "      <td>NaN</td>\n",
       "    </tr>\n",
       "    <tr>\n",
       "      <th>1</th>\n",
       "      <td>2</td>\n",
       "      <td>Student</td>\n",
       "      <td>Yes, both</td>\n",
       "      <td>United Kingdom</td>\n",
       "      <td>Yes, full-time</td>\n",
       "      <td>Employed part-time</td>\n",
       "      <td>Some college/university study without earning ...</td>\n",
       "      <td>Computer science or software engineering</td>\n",
       "      <td>More than half, but not all, the time</td>\n",
       "      <td>20 to 99 employees</td>\n",
       "      <td>...</td>\n",
       "      <td>Strongly disagree</td>\n",
       "      <td>Male</td>\n",
       "      <td>A master's degree</td>\n",
       "      <td>White or of European descent</td>\n",
       "      <td>Somewhat agree</td>\n",
       "      <td>Somewhat agree</td>\n",
       "      <td>Disagree</td>\n",
       "      <td>Strongly agree</td>\n",
       "      <td>NaN</td>\n",
       "      <td>37500.0</td>\n",
       "    </tr>\n",
       "  </tbody>\n",
       "</table>\n",
       "<p>2 rows × 154 columns</p>\n",
       "</div>"
      ],
      "text/plain": [
       "   Respondent Professional ProgramHobby         Country      University  \\\n",
       "0           1      Student    Yes, both   United States              No   \n",
       "1           2      Student    Yes, both  United Kingdom  Yes, full-time   \n",
       "\n",
       "                         EmploymentStatus  \\\n",
       "0  Not employed, and not looking for work   \n",
       "1                      Employed part-time   \n",
       "\n",
       "                                     FormalEducation  \\\n",
       "0                                   Secondary school   \n",
       "1  Some college/university study without earning ...   \n",
       "\n",
       "                             MajorUndergrad  \\\n",
       "0                                       NaN   \n",
       "1  Computer science or software engineering   \n",
       "\n",
       "                              HomeRemote         CompanySize  ...  \\\n",
       "0                                    NaN                 NaN  ...   \n",
       "1  More than half, but not all, the time  20 to 99 employees  ...   \n",
       "\n",
       "  StackOverflowMakeMoney Gender HighestEducationParents  \\\n",
       "0      Strongly disagree   Male             High school   \n",
       "1      Strongly disagree   Male       A master's degree   \n",
       "\n",
       "                           Race         SurveyLong QuestionsInteresting  \\\n",
       "0  White or of European descent  Strongly disagree       Strongly agree   \n",
       "1  White or of European descent     Somewhat agree       Somewhat agree   \n",
       "\n",
       "  QuestionsConfusing InterestedAnswers  Salary  ExpectedSalary  \n",
       "0           Disagree    Strongly agree     NaN             NaN  \n",
       "1           Disagree    Strongly agree     NaN         37500.0  \n",
       "\n",
       "[2 rows x 154 columns]"
      ]
     },
     "execution_count": 2,
     "metadata": {},
     "output_type": "execute_result"
    }
   ],
   "source": [
    "# read in csv file\n",
    "\n",
    "df = pd.read_csv('survey_results_public.csv')\n",
    "df.head(2)"
   ]
  },
  {
   "cell_type": "code",
   "execution_count": 3,
   "metadata": {},
   "outputs": [
    {
     "data": {
      "text/plain": [
       "Index(['Respondent', 'Professional', 'ProgramHobby', 'Country', 'University',\n",
       "       'EmploymentStatus', 'FormalEducation', 'MajorUndergrad', 'HomeRemote',\n",
       "       'CompanySize',\n",
       "       ...\n",
       "       'StackOverflowMakeMoney', 'Gender', 'HighestEducationParents', 'Race',\n",
       "       'SurveyLong', 'QuestionsInteresting', 'QuestionsConfusing',\n",
       "       'InterestedAnswers', 'Salary', 'ExpectedSalary'],\n",
       "      dtype='object', length=154)"
      ]
     },
     "execution_count": 3,
     "metadata": {},
     "output_type": "execute_result"
    }
   ],
   "source": [
    "# Check columns\n",
    "df.columns"
   ]
  },
  {
   "cell_type": "code",
   "execution_count": 4,
   "metadata": {},
   "outputs": [
    {
     "data": {
      "text/html": [
       "<div>\n",
       "<style scoped>\n",
       "    .dataframe tbody tr th:only-of-type {\n",
       "        vertical-align: middle;\n",
       "    }\n",
       "\n",
       "    .dataframe tbody tr th {\n",
       "        vertical-align: top;\n",
       "    }\n",
       "\n",
       "    .dataframe thead th {\n",
       "        text-align: right;\n",
       "    }\n",
       "</style>\n",
       "<table border=\"1\" class=\"dataframe\">\n",
       "  <thead>\n",
       "    <tr style=\"text-align: right;\">\n",
       "      <th></th>\n",
       "      <th>Respondent</th>\n",
       "      <th>CareerSatisfaction</th>\n",
       "      <th>JobSatisfaction</th>\n",
       "      <th>HoursPerWeek</th>\n",
       "      <th>StackOverflowSatisfaction</th>\n",
       "      <th>Salary</th>\n",
       "      <th>ExpectedSalary</th>\n",
       "    </tr>\n",
       "  </thead>\n",
       "  <tbody>\n",
       "    <tr>\n",
       "      <th>count</th>\n",
       "      <td>51392.000000</td>\n",
       "      <td>42695.000000</td>\n",
       "      <td>40376.000000</td>\n",
       "      <td>20600.000000</td>\n",
       "      <td>36592.000000</td>\n",
       "      <td>12891.000000</td>\n",
       "      <td>2566.000000</td>\n",
       "    </tr>\n",
       "    <tr>\n",
       "      <th>mean</th>\n",
       "      <td>25696.500000</td>\n",
       "      <td>7.300574</td>\n",
       "      <td>6.957078</td>\n",
       "      <td>3.952282</td>\n",
       "      <td>8.429875</td>\n",
       "      <td>56298.480641</td>\n",
       "      <td>33142.220468</td>\n",
       "    </tr>\n",
       "    <tr>\n",
       "      <th>std</th>\n",
       "      <td>14835.736854</td>\n",
       "      <td>1.955444</td>\n",
       "      <td>2.167652</td>\n",
       "      <td>7.564722</td>\n",
       "      <td>1.390635</td>\n",
       "      <td>39880.905277</td>\n",
       "      <td>30162.988829</td>\n",
       "    </tr>\n",
       "    <tr>\n",
       "      <th>min</th>\n",
       "      <td>1.000000</td>\n",
       "      <td>0.000000</td>\n",
       "      <td>0.000000</td>\n",
       "      <td>0.000000</td>\n",
       "      <td>0.000000</td>\n",
       "      <td>0.000000</td>\n",
       "      <td>0.000000</td>\n",
       "    </tr>\n",
       "    <tr>\n",
       "      <th>25%</th>\n",
       "      <td>12848.750000</td>\n",
       "      <td>6.000000</td>\n",
       "      <td>6.000000</td>\n",
       "      <td>1.000000</td>\n",
       "      <td>8.000000</td>\n",
       "      <td>26440.371839</td>\n",
       "      <td>4490.492484</td>\n",
       "    </tr>\n",
       "    <tr>\n",
       "      <th>50%</th>\n",
       "      <td>25696.500000</td>\n",
       "      <td>8.000000</td>\n",
       "      <td>7.000000</td>\n",
       "      <td>1.000000</td>\n",
       "      <td>9.000000</td>\n",
       "      <td>50000.000000</td>\n",
       "      <td>29364.263691</td>\n",
       "    </tr>\n",
       "    <tr>\n",
       "      <th>75%</th>\n",
       "      <td>38544.250000</td>\n",
       "      <td>9.000000</td>\n",
       "      <td>8.000000</td>\n",
       "      <td>4.000000</td>\n",
       "      <td>10.000000</td>\n",
       "      <td>80000.000000</td>\n",
       "      <td>50403.225806</td>\n",
       "    </tr>\n",
       "    <tr>\n",
       "      <th>max</th>\n",
       "      <td>51392.000000</td>\n",
       "      <td>10.000000</td>\n",
       "      <td>10.000000</td>\n",
       "      <td>40.000000</td>\n",
       "      <td>10.000000</td>\n",
       "      <td>197000.000000</td>\n",
       "      <td>187500.000000</td>\n",
       "    </tr>\n",
       "  </tbody>\n",
       "</table>\n",
       "</div>"
      ],
      "text/plain": [
       "         Respondent  CareerSatisfaction  JobSatisfaction  HoursPerWeek  \\\n",
       "count  51392.000000        42695.000000     40376.000000  20600.000000   \n",
       "mean   25696.500000            7.300574         6.957078      3.952282   \n",
       "std    14835.736854            1.955444         2.167652      7.564722   \n",
       "min        1.000000            0.000000         0.000000      0.000000   \n",
       "25%    12848.750000            6.000000         6.000000      1.000000   \n",
       "50%    25696.500000            8.000000         7.000000      1.000000   \n",
       "75%    38544.250000            9.000000         8.000000      4.000000   \n",
       "max    51392.000000           10.000000        10.000000     40.000000   \n",
       "\n",
       "       StackOverflowSatisfaction         Salary  ExpectedSalary  \n",
       "count               36592.000000   12891.000000     2566.000000  \n",
       "mean                    8.429875   56298.480641    33142.220468  \n",
       "std                     1.390635   39880.905277    30162.988829  \n",
       "min                     0.000000       0.000000        0.000000  \n",
       "25%                     8.000000   26440.371839     4490.492484  \n",
       "50%                     9.000000   50000.000000    29364.263691  \n",
       "75%                    10.000000   80000.000000    50403.225806  \n",
       "max                    10.000000  197000.000000   187500.000000  "
      ]
     },
     "execution_count": 4,
     "metadata": {},
     "output_type": "execute_result"
    }
   ],
   "source": [
    "# Check statistics\n",
    "df.describe()"
   ]
  },
  {
   "cell_type": "code",
   "execution_count": 5,
   "metadata": {},
   "outputs": [
    {
     "name": "stdout",
     "output_type": "stream",
     "text": [
      "<class 'pandas.core.frame.DataFrame'>\n",
      "RangeIndex: 51392 entries, 0 to 51391\n",
      "Columns: 154 entries, Respondent to ExpectedSalary\n",
      "dtypes: float64(6), int64(1), object(147)\n",
      "memory usage: 60.4+ MB\n"
     ]
    }
   ],
   "source": [
    "df.info()"
   ]
  },
  {
   "cell_type": "code",
   "execution_count": 6,
   "metadata": {},
   "outputs": [
    {
     "name": "stdout",
     "output_type": "stream",
     "text": [
      "The amount of participants in Belgium is 404.\n",
      "The amount of participants in Italy is 781.\n",
      "The amount of participants in Spain is 864.\n"
     ]
    }
   ],
   "source": [
    "#Investigate numbers per country of interest.\n",
    "print('The amount of participants in Belgium is {}.'.format(np.sum(df['Country']=='Belgium')))\n",
    "print('The amount of participants in Italy is {}.'.format(np.sum(df['Country']=='Italy')))\n",
    "print('The amount of participants in Spain is {}.'.format(np.sum(df['Country']=='Spain')))"
   ]
  },
  {
   "cell_type": "code",
   "execution_count": 7,
   "metadata": {},
   "outputs": [
    {
     "data": {
      "text/plain": [
       "Male      31589\n",
       "Female     2600\n",
       "Name: Gender, dtype: int64"
      ]
     },
     "execution_count": 7,
     "metadata": {},
     "output_type": "execute_result"
    }
   ],
   "source": [
    "# See gender distribution\n",
    "df['Gender'].value_counts()[:2]"
   ]
  },
  {
   "cell_type": "code",
   "execution_count": 8,
   "metadata": {},
   "outputs": [
    {
     "name": "stdout",
     "output_type": "stream",
     "text": [
      "The percentage of women in the Stackoverflow data of 2017 is 5.059153175591531 %.\n",
      "The percentage of men in the Stackoverflow data of 2017 is 61.46676525529266 %.\n"
     ]
    }
   ],
   "source": [
    "# Calculate percentage women vs men in Stackoverflow data\n",
    "print('The percentage of women in the Stackoverflow data of 2017 is {} %.'.format(np.sum((df['Gender']=='Female') / df.shape[0])*100))\n",
    "print('The percentage of men in the Stackoverflow data of 2017 is {} %.'.format(np.sum((df['Gender']=='Male') / df.shape[0])*100))"
   ]
  },
  {
   "cell_type": "code",
   "execution_count": 9,
   "metadata": {},
   "outputs": [],
   "source": [
    "def bar_chart_display (df, column, title):\n",
    "    '''\n",
    "    Displays a bar chart of the column of interest with a title\n",
    "    \n",
    "    Parameters:\n",
    "    df: the dataframe of interest\n",
    "    column: the column of interest\n",
    "    title: an according title to the bar chart\n",
    "    \n",
    "    Returns: a bar chart\n",
    "    '''\n",
    "    intervals = df[column].value_counts()\n",
    "    (intervals[:10]/df.shape[0]).plot(kind = 'bar', color = 'pink', edgecolor=\"black\");\n",
    "    plt.title(title);\n",
    "    "
   ]
  },
  {
   "cell_type": "code",
   "execution_count": 10,
   "metadata": {},
   "outputs": [
    {
     "data": {
      "image/png": "[encoded data removed]",
      "text/plain": [
       "<Figure size 432x288 with 1 Axes>"
      ]
     },
     "metadata": {
      "needs_background": "light"
     },
     "output_type": "display_data"
    }
   ],
   "source": [
    "bar_chart_display(df = df,column ='Gender', title = 'Gender difference in the programming field')"
   ]
  },
  {
   "cell_type": "code",
   "execution_count": 11,
   "metadata": {},
   "outputs": [
    {
     "data": {
      "image/png": "[encoded data removed]",
      "text/plain": [
       "<Figure size 432x288 with 1 Axes>"
      ]
     },
     "metadata": {
      "needs_background": "light"
     },
     "output_type": "display_data"
    }
   ],
   "source": [
    "bar_chart_display(df, 'Country', 'Where in the world are the most programmers on stackoverflow?')"
   ]
  },
  {
   "cell_type": "markdown",
   "metadata": {},
   "source": [
    "## 3. Question I |Do programmers have equal salary in Europe and North America and is there a 'gender gap'? <a id='q1'>"
   ]
  },
  {
   "cell_type": "markdown",
   "metadata": {},
   "source": [
    "### 3.1 Prepare Data  <a id='Prepare1'>"
   ]
  },
  {
   "cell_type": "code",
   "execution_count": 12,
   "metadata": {},
   "outputs": [],
   "source": [
    "# Split continent Europe and North-America\n",
    "\n",
    "def define_continent(df):\n",
    "    Europe = ['Liechtenstein', 'Switzerland', \n",
    "           'Iceland', 'Norway', 'Denmark', \n",
    "           'Ireland', 'Canada', 'United Kingdom', 'Germany', \n",
    "           'Netherlands', 'Sweden', 'Luxembourg', 'Austria', \n",
    "           'Finland', 'France', 'Belgium', 'Spain', 'Italy',\n",
    "           'Poland']\n",
    "    North_America = ['United States', 'Canada']\n",
    "    \n",
    "    df['Continent'] = df['Country'].apply(lambda x: 'Europe' if x in Europe else('North_America' if x in North_America else 'Other'))\n",
    "    \n",
    "    return df"
   ]
  },
  {
   "cell_type": "code",
   "execution_count": 13,
   "metadata": {},
   "outputs": [],
   "source": [
    "# Create function to keep only the columns of interest\n",
    "\n",
    "def keep_only_useful_columns(df):\n",
    "    \n",
    "    columns = ['Country', 'YearsCodedJob', 'EmploymentStatus', 'CareerSatisfaction', 'JobSatisfaction', \n",
    "                      'JobSeekingStatus', 'HoursPerWeek', 'Salary', 'Continent', 'Gender', 'HaveWorkedLanguage',\n",
    "              'WantWorkLanguage']\n",
    "    useful_df = pd.DataFrame(df.query(\"Professional == 'Professional developer' and (Gender == 'Female' or Gender == 'Male')\"))[columns]\n",
    "    \n",
    "                                      \n",
    "    return useful_df\n",
    "    "
   ]
  },
  {
   "cell_type": "code",
   "execution_count": 14,
   "metadata": {},
   "outputs": [],
   "source": [
    "#Get only the necessary columns for the analysis\n",
    "\n",
    "df = define_continent(df)\n",
    "useful_df = keep_only_useful_columns(df)"
   ]
  },
  {
   "cell_type": "code",
   "execution_count": 15,
   "metadata": {
    "scrolled": true
   },
   "outputs": [
    {
     "data": {
      "text/html": [
       "<div>\n",
       "<style scoped>\n",
       "    .dataframe tbody tr th:only-of-type {\n",
       "        vertical-align: middle;\n",
       "    }\n",
       "\n",
       "    .dataframe tbody tr th {\n",
       "        vertical-align: top;\n",
       "    }\n",
       "\n",
       "    .dataframe thead th {\n",
       "        text-align: right;\n",
       "    }\n",
       "</style>\n",
       "<table border=\"1\" class=\"dataframe\">\n",
       "  <thead>\n",
       "    <tr style=\"text-align: right;\">\n",
       "      <th></th>\n",
       "      <th>Country</th>\n",
       "      <th>YearsCodedJob</th>\n",
       "      <th>EmploymentStatus</th>\n",
       "      <th>CareerSatisfaction</th>\n",
       "      <th>JobSatisfaction</th>\n",
       "      <th>JobSeekingStatus</th>\n",
       "      <th>HoursPerWeek</th>\n",
       "      <th>Salary</th>\n",
       "      <th>Continent</th>\n",
       "      <th>Gender</th>\n",
       "      <th>HaveWorkedLanguage</th>\n",
       "      <th>WantWorkLanguage</th>\n",
       "    </tr>\n",
       "  </thead>\n",
       "  <tbody>\n",
       "    <tr>\n",
       "      <th>2</th>\n",
       "      <td>United Kingdom</td>\n",
       "      <td>20 or more years</td>\n",
       "      <td>Employed full-time</td>\n",
       "      <td>8.0</td>\n",
       "      <td>9.0</td>\n",
       "      <td>NaN</td>\n",
       "      <td>NaN</td>\n",
       "      <td>113750.0</td>\n",
       "      <td>Europe</td>\n",
       "      <td>Male</td>\n",
       "      <td>Java; PHP; Python</td>\n",
       "      <td>C; Python; Rust</td>\n",
       "    </tr>\n",
       "    <tr>\n",
       "      <th>7</th>\n",
       "      <td>Poland</td>\n",
       "      <td>7 to 8 years</td>\n",
       "      <td>Employed full-time</td>\n",
       "      <td>7.0</td>\n",
       "      <td>7.0</td>\n",
       "      <td>I'm not actively looking, but I am open to new...</td>\n",
       "      <td>1.0</td>\n",
       "      <td>NaN</td>\n",
       "      <td>Europe</td>\n",
       "      <td>Male</td>\n",
       "      <td>CoffeeScript; Clojure; Elixir; Erlang; Haskell...</td>\n",
       "      <td>Clojure; Elixir; Haskell; Scala</td>\n",
       "    </tr>\n",
       "  </tbody>\n",
       "</table>\n",
       "</div>"
      ],
      "text/plain": [
       "          Country     YearsCodedJob    EmploymentStatus  CareerSatisfaction  \\\n",
       "2  United Kingdom  20 or more years  Employed full-time                 8.0   \n",
       "7          Poland      7 to 8 years  Employed full-time                 7.0   \n",
       "\n",
       "   JobSatisfaction                                   JobSeekingStatus  \\\n",
       "2              9.0                                                NaN   \n",
       "7              7.0  I'm not actively looking, but I am open to new...   \n",
       "\n",
       "   HoursPerWeek    Salary Continent Gender  \\\n",
       "2           NaN  113750.0    Europe   Male   \n",
       "7           1.0       NaN    Europe   Male   \n",
       "\n",
       "                                  HaveWorkedLanguage  \\\n",
       "2                                  Java; PHP; Python   \n",
       "7  CoffeeScript; Clojure; Elixir; Erlang; Haskell...   \n",
       "\n",
       "                  WantWorkLanguage  \n",
       "2                  C; Python; Rust  \n",
       "7  Clojure; Elixir; Haskell; Scala  "
      ]
     },
     "execution_count": 15,
     "metadata": {},
     "output_type": "execute_result"
    }
   ],
   "source": [
    "# Verification of function 'keep_only_useful_columns' \n",
    "\n",
    "useful_df.head(2)"
   ]
  },
  {
   "cell_type": "code",
   "execution_count": 16,
   "metadata": {},
   "outputs": [],
   "source": [
    "# Change object Dtype of both 'continent' and 'gender' from object to category\n",
    "\n",
    "useful_df['Continent'] = useful_df['Continent'].astype('category')\n",
    "useful_df['Gender'] = useful_df['Gender'].astype('category')"
   ]
  },
  {
   "cell_type": "code",
   "execution_count": 17,
   "metadata": {},
   "outputs": [
    {
     "name": "stdout",
     "output_type": "stream",
     "text": [
      "<class 'pandas.core.frame.DataFrame'>\n",
      "Int64Index: 25598 entries, 2 to 51390\n",
      "Data columns (total 12 columns):\n",
      " #   Column              Non-Null Count  Dtype   \n",
      "---  ------              --------------  -----   \n",
      " 0   Country             25598 non-null  object  \n",
      " 1   YearsCodedJob       25472 non-null  object  \n",
      " 2   EmploymentStatus    25598 non-null  object  \n",
      " 3   CareerSatisfaction  25504 non-null  float64 \n",
      " 4   JobSatisfaction     24976 non-null  float64 \n",
      " 5   JobSeekingStatus    18976 non-null  object  \n",
      " 6   HoursPerWeek        11714 non-null  float64 \n",
      " 7   Salary              11485 non-null  float64 \n",
      " 8   Continent           25598 non-null  category\n",
      " 9   Gender              25598 non-null  category\n",
      " 10  HaveWorkedLanguage  25334 non-null  object  \n",
      " 11  WantWorkLanguage    23391 non-null  object  \n",
      "dtypes: category(2), float64(4), object(6)\n",
      "memory usage: 2.2+ MB\n"
     ]
    }
   ],
   "source": [
    "# Verification of Dtypes\n",
    "\n",
    "useful_df.info()"
   ]
  },
  {
   "cell_type": "code",
   "execution_count": 18,
   "metadata": {},
   "outputs": [
    {
     "name": "stdout",
     "output_type": "stream",
     "text": [
      "Europe           10484\n",
      "Other             8741\n",
      "North_America     6373\n",
      "Name: Continent, dtype: int64\n"
     ]
    }
   ],
   "source": [
    "# Verification of function 'assembling_countries' \n",
    "print(useful_df['Continent'].value_counts())"
   ]
  },
  {
   "cell_type": "markdown",
   "metadata": {},
   "source": [
    "### 3.2 Data Modeling <a id='Modeling1'>"
   ]
  },
  {
   "cell_type": "code",
   "execution_count": 19,
   "metadata": {},
   "outputs": [
    {
     "data": {
      "text/html": [
       "<div>\n",
       "<style scoped>\n",
       "    .dataframe tbody tr th:only-of-type {\n",
       "        vertical-align: middle;\n",
       "    }\n",
       "\n",
       "    .dataframe tbody tr th {\n",
       "        vertical-align: top;\n",
       "    }\n",
       "\n",
       "    .dataframe thead th {\n",
       "        text-align: right;\n",
       "    }\n",
       "</style>\n",
       "<table border=\"1\" class=\"dataframe\">\n",
       "  <thead>\n",
       "    <tr style=\"text-align: right;\">\n",
       "      <th></th>\n",
       "      <th>CareerSatisfaction</th>\n",
       "      <th>JobSatisfaction</th>\n",
       "      <th>HoursPerWeek</th>\n",
       "      <th>Salary</th>\n",
       "    </tr>\n",
       "    <tr>\n",
       "      <th>Gender</th>\n",
       "      <th></th>\n",
       "      <th></th>\n",
       "      <th></th>\n",
       "      <th></th>\n",
       "    </tr>\n",
       "  </thead>\n",
       "  <tbody>\n",
       "    <tr>\n",
       "      <th>Female</th>\n",
       "      <td>7.259401</td>\n",
       "      <td>6.938582</td>\n",
       "      <td>3.458704</td>\n",
       "      <td>58083.924534</td>\n",
       "    </tr>\n",
       "    <tr>\n",
       "      <th>Male</th>\n",
       "      <td>7.498627</td>\n",
       "      <td>7.051714</td>\n",
       "      <td>3.130685</td>\n",
       "      <td>56996.494293</td>\n",
       "    </tr>\n",
       "  </tbody>\n",
       "</table>\n",
       "</div>"
      ],
      "text/plain": [
       "        CareerSatisfaction  JobSatisfaction  HoursPerWeek        Salary\n",
       "Gender                                                                 \n",
       "Female            7.259401         6.938582      3.458704  58083.924534\n",
       "Male              7.498627         7.051714      3.130685  56996.494293"
      ]
     },
     "execution_count": 19,
     "metadata": {},
     "output_type": "execute_result"
    }
   ],
   "source": [
    "# Calculate mean Salary by Gender\n",
    "useful_df.groupby(['Gender']).mean()"
   ]
  },
  {
   "cell_type": "code",
   "execution_count": 20,
   "metadata": {
    "scrolled": true
   },
   "outputs": [
    {
     "data": {
      "image/png": "[encoded data removed]",
      "text/plain": [
       "<Figure size 432x288 with 1 Axes>"
      ]
     },
     "metadata": {
      "needs_background": "light"
     },
     "output_type": "display_data"
    }
   ],
   "source": [
    "# plot salary by continent and gender\n",
    "sb.barplot(data = useful_df,\n",
    "            x = 'Continent', \n",
    "            y = 'Salary',\n",
    "            hue = 'Gender')\n",
    "\n",
    "plt.title('Salary by Continent and Gender', size = 16);\n",
    "plt.xlabel(\"Continent\", fontsize = 12);\n",
    "plt.ylabel(\"Salary\", fontsize = 12);\n",
    "plt.legend(title_fontsize='40');\n",
    "plt.savefig('graph1.png', dpi=300, bbox_inches='tight');\n",
    "plt.show();\n"
   ]
  },
  {
   "cell_type": "markdown",
   "metadata": {},
   "source": [
    "### 3.3 Evaluating the results  <a id='#Eval1'>"
   ]
  },
  {
   "cell_type": "markdown",
   "metadata": {},
   "source": [
    "When plotting the salaries of both male and female programmers in different continents we make two observations:\n",
    "1. Programmers working in North America (United States + Canada) earn almost double of programmers who work in the Europe and 4 times double than people working on the other continents (including India).  \n",
    "  \n",
    "1. Whatever which continent, men on average gain more money as a programmer compared to women.\n",
    "\n"
   ]
  },
  {
   "cell_type": "markdown",
   "metadata": {},
   "source": [
    "## 4. Question II | Do programmers have equal satisfaction score (career or job) in Europe and North America and is there a 'gender gap'? <a id='q2'>"
   ]
  },
  {
   "cell_type": "markdown",
   "metadata": {},
   "source": [
    "### 4.1 Prepare Data  <a id='Prepare2'>"
   ]
  },
  {
   "cell_type": "markdown",
   "metadata": {},
   "source": [
    "See Question I"
   ]
  },
  {
   "cell_type": "markdown",
   "metadata": {},
   "source": [
    "### 4.2 Data Modeling <a id='Modeling2'>"
   ]
  },
  {
   "cell_type": "code",
   "execution_count": 21,
   "metadata": {},
   "outputs": [
    {
     "data": {
      "text/plain": [
       "Gender\n",
       "Female    6.938582\n",
       "Male      7.051714\n",
       "Name: JobSatisfaction, dtype: float64"
      ]
     },
     "execution_count": 21,
     "metadata": {},
     "output_type": "execute_result"
    }
   ],
   "source": [
    "# Calculate job satisfaction by gender\n",
    "useful_df.groupby(['Gender'])['JobSatisfaction'].mean()"
   ]
  },
  {
   "cell_type": "code",
   "execution_count": 22,
   "metadata": {},
   "outputs": [
    {
     "data": {
      "text/plain": [
       "Gender\n",
       "Female    7.259401\n",
       "Male      7.498627\n",
       "Name: CareerSatisfaction, dtype: float64"
      ]
     },
     "execution_count": 22,
     "metadata": {},
     "output_type": "execute_result"
    }
   ],
   "source": [
    "# Calculate career satisfaction by gender\n",
    "useful_df.groupby(['Gender'])['CareerSatisfaction'].mean()"
   ]
  },
  {
   "cell_type": "code",
   "execution_count": 23,
   "metadata": {},
   "outputs": [
    {
     "data": {
      "image/png": "[encoded data removed]",
      "text/plain": [
       "<Figure size 864x360 with 2 Axes>"
      ]
     },
     "metadata": {
      "needs_background": "light"
     },
     "output_type": "display_data"
    }
   ],
   "source": [
    "# Plot Job/Career Satisfaction by Continent and Gender \n",
    "plt.figure(figsize =[12,5])\n",
    "plt.subplots_adjust(wspace = 0.3) \n",
    "\n",
    "plt.subplot(1,2,1)\n",
    "sb.barplot(data = useful_df,\n",
    "            x = 'Continent', \n",
    "            y = 'JobSatisfaction',\n",
    "            hue = 'Gender');\n",
    "plt.title('Job Satisfaction by Continent and Gender', size = 16);\n",
    "plt.xlabel(\"Continent\", fontsize = 12);\n",
    "plt.ylabel('JobSatisfaction', fontsize = 12);\n",
    "plt.legend(title_fontsize='40');\n",
    "\n",
    "\n",
    "plt.subplot(1,2,2)\n",
    "sb.barplot(data = useful_df,\n",
    "            x = 'Continent', \n",
    "            y = 'CareerSatisfaction',\n",
    "            hue = 'Gender');\n",
    "\n",
    "plt.title('Career Satisfaction by Continent and Gender', size = 16);\n",
    "plt.xlabel(\"Continent\", fontsize = 12);\n",
    "plt.ylabel('Career Satisfaction', fontsize = 12);\n",
    "plt.legend(title_fontsize='40');\n",
    "plt.savefig('graph2.png', dpi=300, bbox_inches='tight');"
   ]
  },
  {
   "cell_type": "markdown",
   "metadata": {},
   "source": [
    "### 4.3 Evaluating the results  <a id='#Eval2'>"
   ]
  },
  {
   "cell_type": "markdown",
   "metadata": {},
   "source": [
    "When plotting the satisfaction rates of both male and female programmers in different continents we make two observations:\n",
    "1. Both job satisfaction and and career satisfaction are on average lower in women compared to men this can be explained mainly by a lower satisfaction of women in other continents rather than Europe or North America. \n",
    "  \n",
    "1. Both job and career satisfaction scores are the highest in North America, closely followed by Europe. The lowest satisfactions scores are found in other continents. "
   ]
  },
  {
   "cell_type": "markdown",
   "metadata": {},
   "source": [
    "## 5. Question III | What are the most common used languages?  <a id='q3'>"
   ]
  },
  {
   "cell_type": "markdown",
   "metadata": {},
   "source": [
    "### 5.1 Prepare Data  <a id='Prepare3'>"
   ]
  },
  {
   "cell_type": "code",
   "execution_count": 24,
   "metadata": {},
   "outputs": [
    {
     "data": {
      "text/plain": [
       "C#; JavaScript; SQL                              1143\n",
       "JavaScript; PHP; SQL                              908\n",
       "Java                                              615\n",
       "JavaScript                                        570\n",
       "Java; JavaScript; SQL                             562\n",
       "                                                 ... \n",
       "C; C++; JavaScript; Lua; Python; SQL                1\n",
       "C++; C#; Java; Python; SQL                          1\n",
       "Java; JavaScript; Python; R; Scala; Smalltalk       1\n",
       "Matlab; Objective-C; Ruby; Swift                    1\n",
       "Assembly; C#; Java; Perl; SQL                       1\n",
       "Name: HaveWorkedLanguage, Length: 6076, dtype: int64"
      ]
     },
     "execution_count": 24,
     "metadata": {},
     "output_type": "execute_result"
    }
   ],
   "source": [
    "# Check HaveWorkedLanguage column\n",
    "\n",
    "useful_df['HaveWorkedLanguage'].value_counts()"
   ]
  },
  {
   "cell_type": "code",
   "execution_count": 25,
   "metadata": {},
   "outputs": [
    {
     "data": {
      "text/plain": [
       "JavaScript        17061\n",
       "SQL               13796\n",
       "Java               9795\n",
       "C#                 9405\n",
       "Python             7018\n",
       "PHP                6916\n",
       "C++                4863\n",
       "C                  3877\n",
       "TypeScript         2905\n",
       "Ruby               2405\n",
       "Objective-C        1853\n",
       "Swift              1738\n",
       "VB.NET             1550\n",
       "Go                 1163\n",
       "Perl               1054\n",
       "Scala              1025\n",
       "Groovy              968\n",
       "CoffeeScript        945\n",
       "Assembly            915\n",
       "VBA                 889\n",
       "R                   752\n",
       "Matlab              724\n",
       "Visual Basic 6      617\n",
       "Lua                 565\n",
       "F#                  343\n",
       "Haskell             332\n",
       "Elixir              282\n",
       "Clojure             278\n",
       "Rust                250\n",
       "Smalltalk           223\n",
       "Erlang              182\n",
       "Common Lisp         132\n",
       "Dart                 98\n",
       "Julia                62\n",
       "Hack                 58\n",
       "dtype: int64"
      ]
     },
     "execution_count": 25,
     "metadata": {},
     "output_type": "execute_result"
    }
   ],
   "source": [
    "#Split various langues \n",
    "\n",
    "languages =useful_df['HaveWorkedLanguage'].str.split('; ', expand=True).stack().value_counts()\n",
    "languages"
   ]
  },
  {
   "cell_type": "markdown",
   "metadata": {},
   "source": [
    "### 5.2 Data Modeling <a id='Modeling3'>"
   ]
  },
  {
   "cell_type": "code",
   "execution_count": 26,
   "metadata": {},
   "outputs": [
    {
     "data": {
      "image/png": "[encoded data removed]",
      "text/plain": [
       "<Figure size 720x720 with 1 Axes>"
      ]
     },
     "metadata": {
      "needs_background": "light"
     },
     "output_type": "display_data"
    }
   ],
   "source": [
    "# Plot languages used\n",
    "\n",
    "plt.figure(figsize=(10,10))\n",
    "languages.plot(kind=\"bar\", color = 'pink')\n",
    "plt.savefig('graph3.png', dpi=300, bbox_inches='tight')"
   ]
  },
  {
   "cell_type": "markdown",
   "metadata": {},
   "source": [
    "### 5.3 Evaluating the results  <a id='#Eval3'>"
   ]
  },
  {
   "cell_type": "markdown",
   "metadata": {},
   "source": [
    "The most used language worldwide is JavaScript, followed by SQL, and Java. Python is the 5th most used languaged following the Stackoverflow data of 2017."
   ]
  }
 ],
 "metadata": {
  "kernelspec": {
   "display_name": "Python 3",
   "language": "python",
   "name": "python3"
  },
  "language_info": {
   "codemirror_mode": {
    "name": "ipython",
    "version": 3
   },
   "file_extension": ".py",
   "mimetype": "text/x-python",
   "name": "python",
   "nbconvert_exporter": "python",
   "pygments_lexer": "ipython3",
   "version": "3.7.6"
  }
 },
 "nbformat": 4,
 "nbformat_minor": 4
}
